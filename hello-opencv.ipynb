{
 "nbformat": 4,
 "nbformat_minor": 2,
 "metadata": {
  "language_info": {
   "name": "python",
   "codemirror_mode": {
    "name": "ipython",
    "version": 3
   },
   "version": "3.8.2-final"
  },
  "orig_nbformat": 2,
  "file_extension": ".py",
  "mimetype": "text/x-python",
  "name": "python",
  "npconvert_exporter": "python",
  "pygments_lexer": "ipython3",
  "version": 3,
  "kernelspec": {
   "name": "python38264bitheartsightconda7e0c5c6da3374a13b37de5ce8ce5ec59",
   "display_name": "Python 3.8.2 64-bit ('heartsight': conda)"
  }
 },
 "cells": [
  {
   "cell_type": "code",
   "execution_count": 1,
   "metadata": {},
   "outputs": [],
   "source": [
    "import numpy as np\n",
    "import cv2"
   ]
  },
  {
   "cell_type": "code",
   "execution_count": 3,
   "metadata": {},
   "outputs": [],
   "source": [
    "# Reading video directly from the computer camera\n",
    "# * The chosen webcam is the first device found (hence the \"0\")\n",
    "# * To exit, the \"q\" key shall be pressed\n",
    "\n",
    "cap = cv2.VideoCapture(0)\n",
    "\n",
    "while(True):\n",
    "    # Capture frame-by-frame\n",
    "    ret, frame = cap.read()\n",
    "\n",
    "    # Our operations on the frame come here\n",
    "    gray = cv2.cvtColor(frame, cv2.COLOR_BGR2GRAY)\n",
    "\n",
    "    # Display the resulting frame\n",
    "    cv2.imshow('frame',gray)\n",
    "    if cv2.waitKey(1) & 0xFF == ord('q'):\n",
    "        break\n",
    "\n",
    "# When everything done, release the capture\n",
    "cap.release()\n",
    "cv2.destroyAllWindows()"
   ]
  },
  {
   "cell_type": "code",
   "execution_count": 2,
   "metadata": {},
   "outputs": [
    {
     "output_type": "execute_result",
     "data": {
      "text/plain": "'data/2020-04-19T10-02-33_cam.mp4'"
     },
     "metadata": {},
     "execution_count": 2
    }
   ],
   "source": [
    "from datetime import datetime\n",
    "\n",
    "def timestamp(name):\n",
    "    return \"%s_%s\" \\\n",
    "        % (datetime.now().strftime('%Y-%m-%dT%H-%M-%S'), name)\n",
    "\n",
    "\"data/\" + timestamp(\"cam.mp4\")"
   ]
  },
  {
   "cell_type": "code",
   "execution_count": 4,
   "metadata": {},
   "outputs": [],
   "source": [
    "# Read and save video from webcam\n",
    "\n",
    "#Capture video from webcam\n",
    "cap = cv2.VideoCapture(0)\n",
    "fourcc = cv2.VideoWriter_fourcc(*'XVID')\n",
    "capture_size = (int(cap.get(3)), int(cap.get(4)))\n",
    "fps = 20.0\n",
    "output = cv2.VideoWriter(\"data/\" + timestamp(\"cam.avi\"), fourcc, fps, capture_size)\n",
    "\n",
    "while(True):\n",
    "     # Capture each frame of webcam video\n",
    "     _, frame = cap.read()\n",
    "     cv2.imshow(\"My cam video\", frame)\n",
    "     output.write(frame)\n",
    "     # Close and break the loop after pressing \"q\" key\n",
    "     if cv2.waitKey(1) &0XFF == ord('q'):\n",
    "         break\n",
    "# close the already opened camera\n",
    "cap.release()\n",
    "# close the already opened file\n",
    "output.release()\n",
    "# close the window and de-allocate any associated memory usage\n",
    "cv2.destroyAllWindows()"
   ]
  },
  {
   "cell_type": "code",
   "execution_count": null,
   "metadata": {},
   "outputs": [],
   "source": []
  }
 ]
}