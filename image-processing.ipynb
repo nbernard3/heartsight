{
 "cells": [
  {
   "cell_type": "markdown",
   "metadata": {},
   "source": [
    "# Image processing\n",
    "This notebook details how the video stream is processed before entering the neural network."
   ]
  },
  {
   "cell_type": "code",
   "execution_count": null,
   "metadata": {},
   "outputs": [],
   "source": [
    "import numpy as np\n",
    "import dlib\n",
    "import heartsight as hs\n",
    "import cv2"
   ]
  },
  {
   "cell_type": "code",
   "execution_count": 12,
   "metadata": {},
   "outputs": [],
   "source": [
    "facebox_width = 256\n",
    "empty_facebox = np.zeros((facebox_width, facebox_width, 3),dtype='uint8')\n",
    "face_detector = dlib.get_frontal_face_detector()"
   ]
  },
  {
   "cell_type": "code",
   "execution_count": 13,
   "metadata": {},
   "outputs": [],
   "source": [
    "face_buffer_list = []\n",
    "\n",
    "with hs.open_webcam() as webcam:\n",
    "\n",
    "    exit_requested = False\n",
    "    previous_face_rectangle = None\n",
    "    while not exit_requested:\n",
    "        rgb_frame = hs.capture_frame(webcam)\n",
    "        gray_frame = hs.rgb_to_gray(rgb_frame)\n",
    "        detected_faces = face_detector(gray_frame, 1)\n",
    "\n",
    "        face_rectangle = detected_faces[0] if detected_faces else previous_face_rectangle\n",
    "\n",
    "        if face_rectangle:\n",
    "            x,y,w,h = hs.dlib_rectangle_to_xywh(face_rectangle)\n",
    "            face_frame = cv2.resize(rgb_frame[y:y+h, x:x+w], (facebox_width, facebox_width))\n",
    "            hs.refresh_display(face_frame)\n",
    "            face_buffer_list.append(face_frame)\n",
    "            previous_face_rectangle = face_rectangle\n",
    "        \n",
    "        exit_requested = hs.detect_q_key_pressed()\n",
    "\n",
    "face_buffer = np.stack(face_buffer_list)\n"
   ]
  },
  {
   "cell_type": "code",
   "execution_count": null,
   "metadata": {},
   "outputs": [],
   "source": []
  }
 ],
 "metadata": {
  "language_info": {
   "codemirror_mode": {
    "name": "ipython",
    "version": 3
   },
   "file_extension": ".py",
   "mimetype": "text/x-python",
   "name": "python",
   "nbconvert_exporter": "python",
   "pygments_lexer": "ipython3",
   "version": "3.8.2-final"
  },
  "orig_nbformat": 2,
  "kernelspec": {
   "name": "python38264bitheartsightconda7e0c5c6da3374a13b37de5ce8ce5ec59",
   "display_name": "Python 3.8.2 64-bit ('heartsight': conda)"
  }
 },
 "nbformat": 4,
 "nbformat_minor": 2
}